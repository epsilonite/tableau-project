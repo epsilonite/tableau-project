{
 "cells": [
  {
   "cell_type": "code",
   "execution_count": 1,
   "id": "e5d66577-1900-43ea-bff2-387ae1a496de",
   "metadata": {},
   "outputs": [],
   "source": [
    "import os\n",
    "import psycopg2"
   ]
  },
  {
   "cell_type": "code",
   "execution_count": 2,
   "id": "2006209a-77bb-4d78-8351-f764d716bc25",
   "metadata": {},
   "outputs": [],
   "source": [
    "# Establish connection to the database\n",
    "conn = psycopg2.connect(\n",
    "    dbname=\"nyc_citibike\",\n",
    "    user=\"postgres\",\n",
    "    password=\"postgres\",\n",
    "    host=\"localhost\",\n",
    "    port=\"5432\"\n",
    ")\n",
    "# Create a cursor\n",
    "cur = conn.cursor()"
   ]
  },
  {
   "cell_type": "code",
   "execution_count": 5,
   "id": "e4bf46de-8529-4755-9a4a-47e39ecea54a",
   "metadata": {},
   "outputs": [
    {
     "data": {
      "text/plain": [
       "['tableau/202209_citibike_tripdata.csv',\n",
       " 'tableau/202210_citibike_tripdata.csv',\n",
       " 'tableau/202211_citibike_tripdata.csv',\n",
       " 'tableau/202212_citibike_tripdata.csv',\n",
       " 'tableau/202301_citibike_tripdata.csv',\n",
       " 'tableau/202302_citibike_tripdata.csv',\n",
       " 'tableau/202303_citibike_tripdata.csv',\n",
       " 'tableau/202304_citibike_tripdata.csv',\n",
       " 'tableau/202305_citibike_tripdata.csv',\n",
       " 'tableau/202306_citibike_tripdata.csv',\n",
       " 'tableau/202307_citibike_tripdata.csv',\n",
       " 'tableau/202308_citibike_tripdata.csv',\n",
       " 'tableau/202309_citibike_tripdata.csv',\n",
       " 'tableau/202310_citibike_tripdata.csv',\n",
       " 'tableau/202311_citibike_tripdata.csv',\n",
       " 'tableau/202312_citibike_tripdata.csv',\n",
       " 'tableau/202401_citibike_tripdata.csv',\n",
       " 'tableau/202402_citibike_tripdata.csv',\n",
       " 'tableau/202403_citibike_tripdata.csv',\n",
       " 'tableau/202404_citibike_tripdata.csv',\n",
       " 'tableau/202405_citibike_tripdata.csv',\n",
       " 'tableau/202406_citibike_tripdata.csv',\n",
       " 'tableau/202407_citibike_tripdata.csv',\n",
       " 'tableau/202408_citibike_tripdata.csv']"
      ]
     },
     "execution_count": 5,
     "metadata": {},
     "output_type": "execute_result"
    }
   ],
   "source": [
    "# List of table names\n",
    "dates = [*range(2209,2213)] + [*range(2301,2313)] + [*range(2401,2409)]\n",
    "csv_files = [f'tableau/20{x}_citibike_tripdata.csv' for x in dates]\n",
    "csv_files"
   ]
  },
  {
   "cell_type": "code",
   "execution_count": 6,
   "id": "b60de581-8ade-4690-9c2e-b9e37eed1543",
   "metadata": {},
   "outputs": [
    {
     "name": "stdout",
     "output_type": "stream",
     "text": [
      "tableau/202209_citibike_tripdata.csv has been loaded into the database.\n",
      "tableau/202210_citibike_tripdata.csv has been loaded into the database.\n",
      "tableau/202211_citibike_tripdata.csv has been loaded into the database.\n",
      "tableau/202212_citibike_tripdata.csv has been loaded into the database.\n",
      "tableau/202301_citibike_tripdata.csv has been loaded into the database.\n",
      "tableau/202302_citibike_tripdata.csv has been loaded into the database.\n",
      "tableau/202303_citibike_tripdata.csv has been loaded into the database.\n",
      "tableau/202304_citibike_tripdata.csv has been loaded into the database.\n",
      "tableau/202305_citibike_tripdata.csv has been loaded into the database.\n",
      "tableau/202306_citibike_tripdata.csv has been loaded into the database.\n",
      "tableau/202307_citibike_tripdata.csv has been loaded into the database.\n",
      "tableau/202308_citibike_tripdata.csv has been loaded into the database.\n",
      "tableau/202309_citibike_tripdata.csv has been loaded into the database.\n",
      "tableau/202310_citibike_tripdata.csv has been loaded into the database.\n",
      "tableau/202311_citibike_tripdata.csv has been loaded into the database.\n",
      "tableau/202312_citibike_tripdata.csv has been loaded into the database.\n",
      "tableau/202401_citibike_tripdata.csv has been loaded into the database.\n",
      "tableau/202402_citibike_tripdata.csv has been loaded into the database.\n",
      "tableau/202403_citibike_tripdata.csv has been loaded into the database.\n",
      "tableau/202404_citibike_tripdata.csv has been loaded into the database.\n",
      "tableau/202405_citibike_tripdata.csv has been loaded into the database.\n",
      "tableau/202406_citibike_tripdata.csv has been loaded into the database.\n",
      "tableau/202407_citibike_tripdata.csv has been loaded into the database.\n",
      "tableau/202408_citibike_tripdata.csv has been loaded into the database.\n"
     ]
    }
   ],
   "source": [
    "# Loop through each CSV file and load it into the PostgreSQL table\n",
    "for csv_file in csv_files:\n",
    "    with open(csv_file, 'r') as f:\n",
    "        cur.copy_expert(f\"COPY rides FROM STDIN WITH CSV HEADER\", f)\n",
    "    print(f'{csv_file} has been loaded into the database.')"
   ]
  },
  {
   "cell_type": "code",
   "execution_count": 7,
   "id": "028cb943-ddcc-4217-9e86-7b2fa54ba205",
   "metadata": {},
   "outputs": [],
   "source": [
    "conn.commit()"
   ]
  },
  {
   "cell_type": "code",
   "execution_count": 8,
   "id": "fa8b767f-b8cd-49af-94f5-8923c2ffa65f",
   "metadata": {},
   "outputs": [],
   "source": [
    "cur.close()\n",
    "conn.close()"
   ]
  },
  {
   "cell_type": "code",
   "execution_count": null,
   "id": "79146dd5-a75a-4d82-8d62-d37ba959fb60",
   "metadata": {},
   "outputs": [],
   "source": []
  }
 ],
 "metadata": {
  "kernelspec": {
   "display_name": "Python 3 (ipykernel)",
   "language": "python",
   "name": "python3"
  },
  "language_info": {
   "codemirror_mode": {
    "name": "ipython",
    "version": 3
   },
   "file_extension": ".py",
   "mimetype": "text/x-python",
   "name": "python",
   "nbconvert_exporter": "python",
   "pygments_lexer": "ipython3",
   "version": "3.10.14"
  }
 },
 "nbformat": 4,
 "nbformat_minor": 5
}
