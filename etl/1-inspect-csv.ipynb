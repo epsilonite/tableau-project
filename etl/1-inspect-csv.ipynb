{
 "cells": [
  {
   "cell_type": "code",
   "execution_count": 5,
   "id": "3b4b2308-cd87-4598-bb62-478dac20d45f",
   "metadata": {},
   "outputs": [],
   "source": [
    "import pandas as pd"
   ]
  },
  {
   "cell_type": "code",
   "execution_count": 6,
   "id": "c540ea4a-b080-4082-aa32-75d67d70a7a0",
   "metadata": {},
   "outputs": [
    {
     "name": "stderr",
     "output_type": "stream",
     "text": [
      "C:\\Users\\b25ch\\AppData\\Local\\Temp\\ipykernel_2964\\4088671978.py:1: DtypeWarning: Columns (6,8) have mixed types. Specify dtype option on import or set low_memory=False.\n",
      "  df = pd.read_csv('data/202408-citibike-tripdata_1.csv')\n"
     ]
    }
   ],
   "source": [
    "df = pd.read_csv('data/202408-citibike-tripdata_1.csv')"
   ]
  },
  {
   "cell_type": "code",
   "execution_count": 7,
   "id": "43ad1911-862b-45fa-8213-2466db8b4592",
   "metadata": {},
   "outputs": [],
   "source": [
    "def set(series): return set(series)"
   ]
  },
  {
   "cell_type": "code",
   "execution_count": 15,
   "id": "9548d4c3-a2e5-4346-84f9-038022a569c6",
   "metadata": {},
   "outputs": [
    {
     "data": {
      "text/plain": [
       "Index(['rideable_type_duplicate_column_name_1', 'ride_id', 'rideable_type',\n",
       "       'started_at', 'ended_at', 'start_station_name', 'start_station_id',\n",
       "       'end_station_name', 'end_station_id', 'start_lat', 'start_lng',\n",
       "       'end_lat', 'end_lng', 'member_casual'],\n",
       "      dtype='object')"
      ]
     },
     "execution_count": 15,
     "metadata": {},
     "output_type": "execute_result"
    }
   ],
   "source": [
    "df.columns"
   ]
  },
  {
   "cell_type": "code",
   "execution_count": 17,
   "id": "c1958417-1856-4b8c-a8d6-676ef489d9bf",
   "metadata": {},
   "outputs": [
    {
     "name": "stdout",
     "output_type": "stream",
     "text": [
      "16\n",
      "13\n",
      "45.0\n",
      "12.0\n",
      "45.0\n",
      "12.0\n",
      "6\n"
     ]
    }
   ],
   "source": [
    "for col in ['ride_id','rideable_type','start_station_name','start_station_id',\n",
    "            'end_station_name','end_station_id','member_casual']:\n",
    "    print(df[col].str.len().max())"
   ]
  },
  {
   "cell_type": "code",
   "execution_count": null,
   "id": "2065f85c-7bef-4f29-a556-29fa87e587df",
   "metadata": {},
   "outputs": [],
   "source": []
  },
  {
   "cell_type": "code",
   "execution_count": null,
   "id": "902666af-3e3a-4f5c-b030-adabfe3bb795",
   "metadata": {},
   "outputs": [],
   "source": [
    "rides_df = df[['ride_id','rideable_type','started_at','ended_at','start_station_id','end_station_id','member_casual']]"
   ]
  },
  {
   "cell_type": "code",
   "execution_count": null,
   "id": "9e4a6a60-37c3-4b7e-81d8-91723ee1ad02",
   "metadata": {},
   "outputs": [],
   "source": [
    "rides_df.str.max()"
   ]
  },
  {
   "cell_type": "code",
   "execution_count": 8,
   "id": "f4a70f9e-2727-4e59-b98d-7146c2c74ad2",
   "metadata": {},
   "outputs": [],
   "source": [
    "stn_df = df[['start_station_id','start_station_name','start_lat','start_lng']]"
   ]
  },
  {
   "cell_type": "code",
   "execution_count": 9,
   "id": "65fa3531-763d-47fa-9b90-c5982afe3572",
   "metadata": {},
   "outputs": [
    {
     "data": {
      "text/plain": [
       "start_station_id       object\n",
       "start_station_name     object\n",
       "start_lat             float64\n",
       "start_lng             float64\n",
       "dtype: object"
      ]
     },
     "execution_count": 9,
     "metadata": {},
     "output_type": "execute_result"
    }
   ],
   "source": [
    "stn_df.loc[:,'start_station_id'] = stn_df.start_station_id.astype(str)\n",
    "stn_df.dtypes"
   ]
  },
  {
   "cell_type": "code",
   "execution_count": 10,
   "id": "9b761111-b679-45a1-a316-8a4af727d694",
   "metadata": {},
   "outputs": [
    {
     "data": {
      "text/plain": [
       "start_station_id      2204\n",
       "start_station_name    2124\n",
       "start_lat             2150\n",
       "start_lng             2142\n",
       "dtype: int64"
      ]
     },
     "execution_count": 10,
     "metadata": {},
     "output_type": "execute_result"
    }
   ],
   "source": [
    "stn_df.nunique()"
   ]
  },
  {
   "cell_type": "code",
   "execution_count": null,
   "id": "045af86b-ef67-46da-80af-c401a51ab98d",
   "metadata": {},
   "outputs": [],
   "source": [
    "stn_df1 = stn_df.groupby('start_station_name').agg(set)"
   ]
  },
  {
   "cell_type": "code",
   "execution_count": null,
   "id": "791c7972-affe-4221-b512-18658ffee2c8",
   "metadata": {},
   "outputs": [],
   "source": [
    "lat_err_df = stn_df1.loc[stn_df1.start_lat.apply(lambda x: len(x) > 1)]\n",
    "lat_err_df"
   ]
  },
  {
   "cell_type": "code",
   "execution_count": null,
   "id": "782ad760-c7a5-431d-92dc-03ed9981e04c",
   "metadata": {},
   "outputs": [],
   "source": [
    "df1 = df.copy()\n",
    "df1.loc[:,'start_station_id'] = df1.start_station_id.astype(str)"
   ]
  },
  {
   "cell_type": "code",
   "execution_count": null,
   "id": "446e8029-7cbe-4097-9ae2-041b8f60be0f",
   "metadata": {},
   "outputs": [],
   "source": [
    "for set in lat_err_df.start_lat:\n",
    "    count = 1\n",
    "    lat = 0.0\n",
    "    for _lat in set:\n",
    "        _count = df1['start_lat'].value_counts()[_lat]\n",
    "        if _count > count: \n",
    "             count = _count\n",
    "             lat = _lat\n",
    "    for _lat in set:\n",
    "        if _lat != lat: df1 = df1.drop(df1.loc[df1.start_lat==_lat].index)"
   ]
  },
  {
   "cell_type": "code",
   "execution_count": null,
   "id": "a0be1bc5-3ae0-45d6-b83e-46f49c42d2a5",
   "metadata": {},
   "outputs": [],
   "source": []
  }
 ],
 "metadata": {
  "kernelspec": {
   "display_name": "Python 3 (ipykernel)",
   "language": "python",
   "name": "python3"
  },
  "language_info": {
   "codemirror_mode": {
    "name": "ipython",
    "version": 3
   },
   "file_extension": ".py",
   "mimetype": "text/x-python",
   "name": "python",
   "nbconvert_exporter": "python",
   "pygments_lexer": "ipython3",
   "version": "3.10.14"
  }
 },
 "nbformat": 4,
 "nbformat_minor": 5
}
