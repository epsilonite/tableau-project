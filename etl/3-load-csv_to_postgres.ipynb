{
 "cells": [
  {
   "cell_type": "code",
   "execution_count": 5,
   "id": "e5d66577-1900-43ea-bff2-387ae1a496de",
   "metadata": {},
   "outputs": [],
   "source": [
    "import os\n",
    "import psycopg2"
   ]
  },
  {
   "cell_type": "code",
   "execution_count": 49,
   "id": "7aaed896-a25d-4b2b-97de-be33843cb08c",
   "metadata": {},
   "outputs": [],
   "source": [
    "# Month for which to build data\n",
    "date = '202209'"
   ]
  },
  {
   "cell_type": "markdown",
   "id": "1be37d0a-bce6-4030-b142-d43c4d6b8e4c",
   "metadata": {},
   "source": [
    "#### for multiple CSVs"
   ]
  },
  {
   "cell_type": "code",
   "execution_count": 50,
   "id": "2006209a-77bb-4d78-8351-f764d716bc25",
   "metadata": {},
   "outputs": [
    {
     "name": "stdout",
     "output_type": "stream",
     "text": [
      "data/202209-citibike-tripdata_1.csv has been loaded into the database.\n",
      "data/202209-citibike-tripdata_2.csv has been loaded into the database.\n",
      "data/202209-citibike-tripdata_3.csv has been loaded into the database.\n",
      "data/202209-citibike-tripdata_4.csv has been loaded into the database.\n"
     ]
    }
   ],
   "source": [
    "# Establish connection to the database\n",
    "conn = psycopg2.connect(\n",
    "    dbname=\"nyc_citibike\",\n",
    "    user=\"postgres\",\n",
    "    password=\"postgres\",\n",
    "    host=\"localhost\",\n",
    "    port=\"5432\"\n",
    ")\n",
    "# Create a cursor\n",
    "cur = conn.cursor()\n",
    "# List of CSV files\n",
    "csv_files = [f'data/{date}-citibike-tripdata_1.csv', \n",
    "             f'data/{date}-citibike-tripdata_2.csv',\n",
    "             f'data/{date}-citibike-tripdata_3.csv', \n",
    "             f'data/{date}-citibike-tripdata_4.csv'] \n",
    "             # f'data/{date}-citibike-tripdata_5.csv']\n",
    "# Loop through each CSV file and load it into the PostgreSQL table\n",
    "for csv_file in csv_files:\n",
    "    with open(csv_file, 'r') as f:\n",
    "        cur.copy_expert(f\"COPY rides{date[2:]} FROM STDIN WITH CSV HEADER\", f)\n",
    "    print(f'{csv_file} has been loaded into the database.')\n",
    "# Commit the transaction after all files have been processed\n",
    "conn.commit()\n",
    "# Close the cursor and connection\n",
    "cur.close()\n",
    "conn.close()"
   ]
  },
  {
   "cell_type": "markdown",
   "id": "7ad85cd4-fe50-4fa1-81cc-1f79d01c18af",
   "metadata": {},
   "source": [
    "#### for single CSV"
   ]
  },
  {
   "cell_type": "code",
   "execution_count": 16,
   "id": "d87856c3-f928-4325-8042-53f386e1f65e",
   "metadata": {},
   "outputs": [
    {
     "name": "stdout",
     "output_type": "stream",
     "text": [
      "data/202401-citibike-tripdata.csv has been loaded into the database.\n"
     ]
    }
   ],
   "source": [
    "# Establish connection to the database\n",
    "conn = psycopg2.connect(\n",
    "    dbname=\"nyc_citibike\",\n",
    "    user=\"postgres\",\n",
    "    password=\"postgres\",\n",
    "    host=\"localhost\",\n",
    "    port=\"5432\"\n",
    ")\n",
    "# Create a cursor\n",
    "cur = conn.cursor()\n",
    "# CSV files\n",
    "csv_file = f'data/{date}-citibike-tripdata.csv'\n",
    "\n",
    "# Load CSV file into the PostgreSQL table\n",
    "with open(csv_file, 'r') as f:\n",
    "    cur.copy_expert(f\"COPY rides{date[2:]} FROM STDIN WITH CSV HEADER\", f)\n",
    "print(f'{csv_file} has been loaded into the database.')\n",
    "# Commit the transaction after all files have been processed\n",
    "conn.commit()\n",
    "# Close the cursor and connection\n",
    "cur.close()\n",
    "conn.close()"
   ]
  },
  {
   "cell_type": "code",
   "execution_count": null,
   "id": "b7656750-568b-4ede-a2f9-9880e94eb4c1",
   "metadata": {},
   "outputs": [],
   "source": []
  }
 ],
 "metadata": {
  "kernelspec": {
   "display_name": "Python 3 (ipykernel)",
   "language": "python",
   "name": "python3"
  },
  "language_info": {
   "codemirror_mode": {
    "name": "ipython",
    "version": 3
   },
   "file_extension": ".py",
   "mimetype": "text/x-python",
   "name": "python",
   "nbconvert_exporter": "python",
   "pygments_lexer": "ipython3",
   "version": "3.10.14"
  }
 },
 "nbformat": 4,
 "nbformat_minor": 5
}
