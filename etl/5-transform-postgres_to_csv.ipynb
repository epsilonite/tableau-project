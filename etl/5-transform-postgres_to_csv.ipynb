{
 "cells": [
  {
   "cell_type": "markdown",
   "id": "332ede5e-bcbc-4d60-88fd-4510605cafea",
   "metadata": {},
   "source": [
    "###"
   ]
  },
  {
   "cell_type": "code",
   "execution_count": 22,
   "id": "eb9cfc74-f224-405e-90e3-915c93033393",
   "metadata": {},
   "outputs": [],
   "source": [
    "import psycopg2\n",
    "import pandas as pd\n",
    "import db"
   ]
  },
  {
   "cell_type": "code",
   "execution_count": 23,
   "id": "777a2e54-f33f-4a9f-b63b-f62b013fd62d",
   "metadata": {},
   "outputs": [],
   "source": [
    "# Establish connection to the database\n",
    "conn = psycopg2.connect(\n",
    "    dbname=\"nyc_citibike\",\n",
    "    user=db.user,\n",
    "    password=db.password,\n",
    "    host=\"localhost\",\n",
    "    port=\"5432\"\n",
    ")\n",
    "# Create a cursor\n",
    "cur = conn.cursor()"
   ]
  },
  {
   "cell_type": "code",
   "execution_count": 3,
   "id": "5b4a73c7-f7d7-46b0-ac71-95abf7e92780",
   "metadata": {},
   "outputs": [],
   "source": [
    "# List of table names\n",
    "dates = [*range(2209,2213)] + [*range(2301,2313)] + [*range(2401,2409)]\n",
    "tables = [f'rides{x}' for x in dates]"
   ]
  },
  {
   "cell_type": "code",
   "execution_count": 7,
   "id": "13dde0f9-fb46-4bc7-8f58-572bb751b2d5",
   "metadata": {},
   "outputs": [],
   "source": [
    "# Perform cleaning operations on each table\n",
    "for table in tables:\n",
    "    for x in ['start','end']:\n",
    "        # remove trailing _\n",
    "        query_ = f\"\"\"UPDATE {table} SET {x}_station_id = RTRIM({x}_station_id, '_');\"\"\"\n",
    "        cur.execute(query_)\n",
    "        # append 0 to station indexes that don't have two trailing numbers after .\n",
    "        query0 = f\"\"\"UPDATE {table} \n",
    "            SET {x}_station_id = REGEXP_REPLACE({x}_station_id, '^(\\d+\\.\\d)$', '\\1' || '0')\n",
    "            WHERE {x}_station_id ~ '^\\d+\\.\\d$';\"\"\"\n",
    "        cur.execute(query0)\n",
    "        # correct for inconsistent lat lng for stations\n",
    "        queryx = f\"\"\"\n",
    "            WITH most_frequent_lat_lng AS (\n",
    "                SELECT {x}_station_name,\n",
    "                       {x}_lat, \n",
    "                       {x}_lng, \n",
    "                       COUNT(*) AS freq\n",
    "                FROM {table}\n",
    "                GROUP BY {x}_station_name, {x}_lat, {x}_lng\n",
    "            ),\n",
    "            most_frequent AS (\n",
    "                SELECT {x}_station_name, {x}_lat AS correct_lat, {x}_lng AS correct_lng\n",
    "                FROM most_frequent_lat_lng\n",
    "                WHERE ({x}_station_name, freq) IN (\n",
    "                    SELECT {x}_station_name, MAX(freq)\n",
    "                    FROM most_frequent_lat_lng\n",
    "                    GROUP BY {x}_station_name\n",
    "                )\n",
    "            )\n",
    "            UPDATE {table}\n",
    "            SET {x}_lat = most_frequent.correct_lat,\n",
    "                {x}_lng = most_frequent.correct_lng\n",
    "            FROM most_frequent\n",
    "            WHERE {table}.{x}_station_name = most_frequent.{x}_station_name\n",
    "            AND ({table}.{x}_lat <> most_frequent.correct_lat OR {table}.{x}_lng <> most_frequent.correct_lng);\n",
    "        \"\"\"\n",
    "        cur.execute(queryx)"
   ]
  },
  {
   "cell_type": "code",
   "execution_count": 17,
   "id": "76037890-3654-4785-9829-9eba2c6503a4",
   "metadata": {},
   "outputs": [],
   "source": [
    "# Rollback if there is an error\n",
    "conn.rollback()"
   ]
  },
  {
   "cell_type": "code",
   "execution_count": 8,
   "id": "64fb9d64-3b50-4438-b5e1-a07ddf941caa",
   "metadata": {},
   "outputs": [],
   "source": [
    "# Commit the changes\n",
    "conn.commit()"
   ]
  },
  {
   "cell_type": "code",
   "execution_count": 13,
   "id": "2609e0ee-5714-45f4-b3e9-77633b2421b0",
   "metadata": {},
   "outputs": [
    {
     "name": "stdout",
     "output_type": "stream",
     "text": [
      "rides2209\n",
      "rides2210\n",
      "rides2211\n",
      "rides2212\n",
      "rides2301\n",
      "rides2302\n",
      "rides2303\n",
      "rides2304\n",
      "rides2305\n",
      "rides2306\n",
      "rides2307\n",
      "rides2308\n",
      "rides2309\n",
      "rides2310\n",
      "rides2311\n",
      "rides2312\n",
      "rides2401\n",
      "rides2402\n",
      "rides2403\n",
      "rides2404\n",
      "rides2405\n",
      "rides2406\n",
      "rides2407\n",
      "rides2408\n"
     ]
    }
   ],
   "source": [
    "# Perform data transformations and export to CSVs\n",
    "for table in tables:\n",
    "    query = f\"\"\"\n",
    "        WITH cleaned AS (\n",
    "            SELECT * FROM {table}\n",
    "            WHERE start_station_name IS NOT NULL\n",
    "            AND end_station_name IS NOT NULL\n",
    "            AND start_station_id ~ '^\\d{{4}}\\.\\d{{2}}$'\n",
    "            AND end_station_id ~ '^\\d{{4}}\\.\\d{{2}}$'\n",
    "            AND start_lat IS NOT NULL\n",
    "            AND end_lat IS NOT NULL\n",
    "            AND (start_lat <> end_lat OR start_lng <> end_lng)\n",
    "        ),\n",
    "        binned_starts AS (\n",
    "            SELECT TO_CHAR(started_at, 'YYYYMM')::INTEGER AS date,\n",
    "            start_station_name AS name, \n",
    "            start_lat AS lat, start_lng AS lng,\n",
    "            CASE WHEN EXTRACT(DOW FROM started_at) IN (0, 6) THEN 'Weekend' ELSE 'Weekday' END AS day, \n",
    "            EXTRACT(HOUR FROM started_at) AS hour,\n",
    "            AVG((end_lat-start_lat)/SQRT(POWER(end_lat-start_lat,2)+POWER(end_lng-start_lng,2))) as i,\n",
    "            AVG((end_lng-start_lng)/SQRT(POWER(end_lat-start_lat,2)+POWER(end_lng-start_lng,2))) as j,\n",
    "            PERCENTILE_CONT(0.5) WITHIN GROUP (ORDER BY earth_distance(ll_to_earth(start_lat, start_lng), ll_to_earth(end_lat, end_lng))) AS distance,\n",
    "            COUNT(*) as counts\n",
    "            FROM cleaned\n",
    "            GROUP BY date, name, lat, lng, day, hour\n",
    "            ORDER BY date, name, lat, lng, day, hour\n",
    "        ),\n",
    "        binned_ends AS (\n",
    "            SELECT TO_CHAR(ended_at, 'YYYYMM')::INTEGER AS date,\n",
    "            end_station_name AS name,\n",
    "            CASE WHEN EXTRACT(DOW FROM ended_at) IN (0, 6) THEN 'Weekend' ELSE 'Weekday' END AS day, \n",
    "            EXTRACT(HOUR FROM ended_at) as hour,\n",
    "            AVG((end_lat-start_lat)/SQRT(POWER(end_lat-start_lat,2)+POWER(end_lng-start_lng,2))) as i,\n",
    "            AVG((end_lng-start_lng)/SQRT(POWER(end_lat-start_lat,2)+POWER(end_lng-start_lng,2))) as j,\n",
    "            PERCENTILE_CONT(0.5) WITHIN GROUP (ORDER BY earth_distance(ll_to_earth(start_lat, start_lng), ll_to_earth(end_lat, end_lng))) AS distance,\n",
    "            COUNT(*) as counts\n",
    "            FROM cleaned\n",
    "            GROUP BY date, name, day, hour\n",
    "            ORDER BY date, name, day, hour\n",
    "        )\n",
    "        SELECT s.date, s.name, s.lat, s.lng, s.day, s.hour,\n",
    "        s.i as s_i, s.j as s_j, s.distance as s_median_dist, s.counts as s_count,\n",
    "        e.i as e_i, e.j as e_j, e.distance as e_median_dist, e.counts as e_count\n",
    "        FROM binned_starts AS s\n",
    "        JOIN binned_ends AS e\n",
    "            ON s.date = e.date AND s.name = e.name AND s.day = e.day AND s.hour = e.hour\n",
    "        ORDER BY s.date, s.name, s.day, s.hour\n",
    "    \"\"\"\n",
    "    cur.execute(query)\n",
    "    # Fetch the result as a DataFrame\n",
    "    columns = [desc[0] for desc in cur.description]  # Get column names\n",
    "    result = cur.fetchall()  # Fetch all data\n",
    "    # Convert to pandas DataFrame\n",
    "    df = pd.DataFrame(result, columns=columns)\n",
    "    # Export to CSV\n",
    "    df.to_csv(f'data/20{table[5:9]}_citibike_tripdata.csv', index=False)\n",
    "    print(table)"
   ]
  },
  {
   "cell_type": "code",
   "execution_count": 20,
   "id": "affcfc06-0a16-4c78-85bf-4aa4534a9204",
   "metadata": {},
   "outputs": [],
   "source": [
    "# Commit the changes and close the connection\n",
    "cur.close()\n",
    "conn.close()"
   ]
  },
  {
   "cell_type": "code",
   "execution_count": null,
   "id": "6855a5ca-a237-4650-9929-d5af486d928f",
   "metadata": {},
   "outputs": [],
   "source": []
  }
 ],
 "metadata": {
  "kernelspec": {
   "display_name": "Python 3 (ipykernel)",
   "language": "python",
   "name": "python3"
  },
  "language_info": {
   "codemirror_mode": {
    "name": "ipython",
    "version": 3
   },
   "file_extension": ".py",
   "mimetype": "text/x-python",
   "name": "python",
   "nbconvert_exporter": "python",
   "pygments_lexer": "ipython3",
   "version": "3.10.14"
  }
 },
 "nbformat": 4,
 "nbformat_minor": 5
}
